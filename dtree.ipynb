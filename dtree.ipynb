{
 "cells": [
  {
   "cell_type": "code",
   "execution_count": null,
   "metadata": {},
   "outputs": [],
   "source": [
    "# Author : Amir Shokri\n",
    "# github link : https://github.com/amirshnll/Cryotherapy\n",
    "# dataset link : http://archive.ics.uci.edu/ml/datasets/Cryotherapy+Dataset+\n",
    "# email : amirsh.nll@gmail.com"
   ]
  },
  {
   "cell_type": "code",
   "execution_count": 3,
   "metadata": {},
   "outputs": [],
   "source": [
    "import pandas\n",
    "from sklearn.tree import DecisionTreeClassifier\n",
    "from sklearn.model_selection import train_test_split\n",
    "from sklearn.metrics import accuracy_score\n",
    "from sklearn import metrics"
   ]
  },
  {
   "cell_type": "code",
   "execution_count": 4,
   "metadata": {},
   "outputs": [],
   "source": [
    "columns =['Result_of_Treatment','sex', 'age', 'Time', 'Number_of_Warts','Type','Area']\n",
    "cry= pandas.read_csv(\"Cryotherapy.csv\",header=None, names=columns)"
   ]
  },
  {
   "cell_type": "code",
   "execution_count": 5,
   "metadata": {},
   "outputs": [
    {
     "name": "stdout",
     "output_type": "stream",
     "text": [
      "    Result_of_Treatment  sex  age   Time  Number_of_Warts  Type  Area\n",
      "0                     0    1   35  12.00                5     1   100\n",
      "1                     1    1   29   7.00                5     1    96\n",
      "2                     0    1   50   8.00                1     3   132\n",
      "3                     0    1   32  11.75                7     3   750\n",
      "4                     0    1   67   9.25                1     1    42\n",
      "..                  ...  ...  ...    ...              ...   ...   ...\n",
      "84                    1    1   30   0.25               10     1   115\n",
      "85                    0    2   34  12.00                3     3    95\n",
      "86                    1    2   20   3.50                6     1    75\n",
      "87                    0    2   35   8.25                8     3   100\n",
      "88                    1    1   24  10.75               10     1    20\n",
      "\n",
      "[89 rows x 7 columns]\n"
     ]
    }
   ],
   "source": [
    "print(cry)"
   ]
  },
  {
   "cell_type": "code",
   "execution_count": 6,
   "metadata": {},
   "outputs": [],
   "source": [
    "inputs =cry.drop('Result_of_Treatment',axis='columns')\n",
    "target =cry['Result_of_Treatment']"
   ]
  },
  {
   "cell_type": "code",
   "execution_count": 7,
   "metadata": {},
   "outputs": [
    {
     "name": "stdout",
     "output_type": "stream",
     "text": [
      "    sex  age   Time  Number_of_Warts  Type  Area\n",
      "0     1   35  12.00                5     1   100\n",
      "1     1   29   7.00                5     1    96\n",
      "2     1   50   8.00                1     3   132\n",
      "3     1   32  11.75                7     3   750\n",
      "4     1   67   9.25                1     1    42\n",
      "..  ...  ...    ...              ...   ...   ...\n",
      "84    1   30   0.25               10     1   115\n",
      "85    2   34  12.00                3     3    95\n",
      "86    2   20   3.50                6     1    75\n",
      "87    2   35   8.25                8     3   100\n",
      "88    1   24  10.75               10     1    20\n",
      "\n",
      "[89 rows x 6 columns]\n"
     ]
    }
   ],
   "source": [
    "print(inputs)"
   ]
  },
  {
   "cell_type": "code",
   "execution_count": 8,
   "metadata": {},
   "outputs": [],
   "source": [
    "input_train,input_test,target_train,target_test=train_test_split(inputs,target,test_size=0.3,random_state=1)"
   ]
  },
  {
   "cell_type": "code",
   "execution_count": 9,
   "metadata": {},
   "outputs": [
    {
     "name": "stdout",
     "output_type": "stream",
     "text": [
      "(62, 6) (62,)\n",
      "(27, 6) (27,)\n"
     ]
    }
   ],
   "source": [
    "print (input_train.shape, target_train.shape)\n",
    "print (input_test.shape, target_test.shape)"
   ]
  },
  {
   "cell_type": "code",
   "execution_count": 10,
   "metadata": {},
   "outputs": [
    {
     "data": {
      "text/plain": [
       "array([1, 0, 1, 1, 0, 1, 1, 1, 1, 1, 0, 1, 1, 0, 0, 1, 0, 1, 0, 0, 0, 1,\n",
       "       0, 0, 0, 0, 0], dtype=int64)"
      ]
     },
     "execution_count": 10,
     "metadata": {},
     "output_type": "execute_result"
    }
   ],
   "source": [
    "dtree = DecisionTreeClassifier()\n",
    "dtree = dtree.fit(input_train,target_train)\n",
    "y_pred =dtree.predict(input_test)\n",
    "y_pred"
   ]
  },
  {
   "cell_type": "code",
   "execution_count": 12,
   "metadata": {},
   "outputs": [
    {
     "name": "stdout",
     "output_type": "stream",
     "text": [
      "Classification Report:\n",
      "              precision    recall  f1-score   support\n",
      "\n",
      "           0       0.86      0.86      0.86        14\n",
      "           1       0.85      0.85      0.85        13\n",
      "\n",
      "    accuracy                           0.85        27\n",
      "   macro avg       0.85      0.85      0.85        27\n",
      "weighted avg       0.85      0.85      0.85        27\n",
      "\n",
      "Accuracy: 0.8518518518518519\n"
     ]
    }
   ],
   "source": [
    "from sklearn.metrics import classification_report, accuracy_score\n",
    "result1 = classification_report(target_test, y_pred)\n",
    "print(\"Classification Report:\",)\n",
    "print (result1)\n",
    "result2 = accuracy_score(target_test,y_pred)\n",
    "print(\"Accuracy:\",result2)"
   ]
  },
  {
   "cell_type": "code",
   "execution_count": 25,
   "metadata": {},
   "outputs": [
    {
     "data": {
      "text/plain": [
       "[Text(121.74545454545455, 203.85, 'X[2] <= 8.125\\ngini = 0.498\\nsamples = 89\\nvalue = [42, 47]'),\n",
       " Text(60.872727272727275, 176.67000000000002, 'X[1] <= 45.5\\ngini = 0.172\\nsamples = 42\\nvalue = [4, 38]'),\n",
       " Text(30.436363636363637, 149.49, 'gini = 0.0\\nsamples = 38\\nvalue = [0, 38]'),\n",
       " Text(91.30909090909091, 149.49, 'gini = 0.0\\nsamples = 4\\nvalue = [4, 0]'),\n",
       " Text(182.61818181818182, 176.67000000000002, 'X[1] <= 16.5\\ngini = 0.31\\nsamples = 47\\nvalue = [38, 9]'),\n",
       " Text(152.1818181818182, 149.49, 'gini = 0.0\\nsamples = 4\\nvalue = [0, 4]'),\n",
       " Text(213.05454545454546, 149.49, 'X[4] <= 2.5\\ngini = 0.206\\nsamples = 43\\nvalue = [38, 5]'),\n",
       " Text(182.61818181818182, 122.31, 'X[3] <= 7.5\\ngini = 0.33\\nsamples = 24\\nvalue = [19, 5]'),\n",
       " Text(121.74545454545455, 95.13, 'X[5] <= 130.0\\ngini = 0.188\\nsamples = 19\\nvalue = [17, 2]'),\n",
       " Text(91.30909090909091, 67.94999999999999, 'X[1] <= 40.5\\ngini = 0.105\\nsamples = 18\\nvalue = [17, 1]'),\n",
       " Text(60.872727272727275, 40.77000000000001, 'gini = 0.0\\nsamples = 15\\nvalue = [15, 0]'),\n",
       " Text(121.74545454545455, 40.77000000000001, 'X[2] <= 10.25\\ngini = 0.444\\nsamples = 3\\nvalue = [2, 1]'),\n",
       " Text(91.30909090909091, 13.590000000000003, 'gini = 0.0\\nsamples = 2\\nvalue = [2, 0]'),\n",
       " Text(152.1818181818182, 13.590000000000003, 'gini = 0.0\\nsamples = 1\\nvalue = [0, 1]'),\n",
       " Text(152.1818181818182, 67.94999999999999, 'gini = 0.0\\nsamples = 1\\nvalue = [0, 1]'),\n",
       " Text(243.4909090909091, 95.13, 'X[1] <= 20.5\\ngini = 0.48\\nsamples = 5\\nvalue = [2, 3]'),\n",
       " Text(213.05454545454546, 67.94999999999999, 'gini = 0.0\\nsamples = 1\\nvalue = [1, 0]'),\n",
       " Text(273.92727272727274, 67.94999999999999, 'X[4] <= 1.5\\ngini = 0.375\\nsamples = 4\\nvalue = [1, 3]'),\n",
       " Text(243.4909090909091, 40.77000000000001, 'gini = 0.0\\nsamples = 3\\nvalue = [0, 3]'),\n",
       " Text(304.3636363636364, 40.77000000000001, 'gini = 0.0\\nsamples = 1\\nvalue = [1, 0]'),\n",
       " Text(243.4909090909091, 122.31, 'gini = 0.0\\nsamples = 19\\nvalue = [19, 0]')]"
      ]
     },
     "execution_count": 25,
     "metadata": {},
     "output_type": "execute_result"
    },
    {
     "data": {
      "image/png": "[encoded data removed]",
      "text/plain": [
       "<Figure size 432x288 with 1 Axes>"
      ]
     },
     "metadata": {
      "needs_background": "light"
     },
     "output_type": "display_data"
    }
   ],
   "source": [
    "from sklearn import tree\n",
    "tree.plot_tree(dtree.fit(inputs,target))"
   ]
  }
 ],
 "metadata": {
  "kernelspec": {
   "display_name": "Python 3",
   "language": "python",
   "name": "python3"
  },
  "language_info": {
   "codemirror_mode": {
    "name": "ipython",
    "version": 3
   },
   "file_extension": ".py",
   "mimetype": "text/x-python",
   "name": "python",
   "nbconvert_exporter": "python",
   "pygments_lexer": "ipython3",
   "version": "3.8.3"
  }
 },
 "nbformat": 4,
 "nbformat_minor": 4
}
