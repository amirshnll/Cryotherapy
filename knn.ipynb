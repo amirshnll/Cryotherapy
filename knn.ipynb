{
 "cells": [
  {
   "cell_type": "code",
   "execution_count": null,
   "metadata": {},
   "outputs": [],
   "source": [
    "# Author : Amir Shokri\n",
    "# github link : https://github.com/amirshnll/Cryotherapy\n",
    "# dataset link : http://archive.ics.uci.edu/ml/datasets/Cryotherapy+Dataset+\n",
    "# email : amirsh.nll@gmail.com"
   ]
  },
  {
   "cell_type": "code",
   "execution_count": 21,
   "metadata": {},
   "outputs": [],
   "source": [
    "import pandas as pd\n",
    "import numpy as np\n",
    "import matplotlib.pyplot as plt\n",
    "from sklearn.model_selection import train_test_split\n",
    "from sklearn.metrics import classification_report, confusion_matrix, accuracy_score"
   ]
  },
  {
   "cell_type": "code",
   "execution_count": 22,
   "metadata": {},
   "outputs": [],
   "source": [
    "col_names= ['Result_of_Treatment','sex', 'age', 'Time', 'Number_of_Warts', 'Type', 'Area' ]\n",
    "cry=pd.read_csv(\"Cryotherapy.csv\",header=None, names=col_names)"
   ]
  },
  {
   "cell_type": "code",
   "execution_count": 23,
   "metadata": {},
   "outputs": [],
   "source": [
    "inputs =cry.drop('Result_of_Treatment',axis='columns')\n",
    "target =cry['Result_of_Treatment']"
   ]
  },
  {
   "cell_type": "code",
   "execution_count": 24,
   "metadata": {},
   "outputs": [],
   "source": [
    "input_train,input_test,target_train,target_test=train_test_split(inputs,target,test_size=0.3,random_state=1)"
   ]
  },
  {
   "cell_type": "code",
   "execution_count": 25,
   "metadata": {},
   "outputs": [],
   "source": [
    "from sklearn.preprocessing import StandardScaler\n",
    "scaler =StandardScaler()\n",
    "scaler.fit(input_train)\n",
    "input_train=scaler.transform(input_train)\n",
    "input_test =scaler.transform(input_test)"
   ]
  },
  {
   "cell_type": "code",
   "execution_count": 51,
   "metadata": {},
   "outputs": [
    {
     "name": "stdout",
     "output_type": "stream",
     "text": [
      "Classification Report:\n",
      "              precision    recall  f1-score   support\n",
      "\n",
      "           0       0.92      0.79      0.85        14\n",
      "           1       0.80      0.92      0.86        13\n",
      "\n",
      "    accuracy                           0.85        27\n",
      "   macro avg       0.86      0.85      0.85        27\n",
      "weighted avg       0.86      0.85      0.85        27\n",
      "\n",
      "Accuracy 1 : 0.8518518518518519\n",
      "Classification Report:\n",
      "              precision    recall  f1-score   support\n",
      "\n",
      "           0       0.92      0.79      0.85        14\n",
      "           1       0.80      0.92      0.86        13\n",
      "\n",
      "    accuracy                           0.85        27\n",
      "   macro avg       0.86      0.85      0.85        27\n",
      "weighted avg       0.86      0.85      0.85        27\n",
      "\n",
      "Accuracy 3 : 0.8518518518518519\n",
      "Classification Report:\n",
      "              precision    recall  f1-score   support\n",
      "\n",
      "           0       0.92      0.86      0.89        14\n",
      "           1       0.86      0.92      0.89        13\n",
      "\n",
      "    accuracy                           0.89        27\n",
      "   macro avg       0.89      0.89      0.89        27\n",
      "weighted avg       0.89      0.89      0.89        27\n",
      "\n",
      "Accuracy 5 : 0.8888888888888888\n",
      "Classification Report:\n",
      "              precision    recall  f1-score   support\n",
      "\n",
      "           0       0.93      0.93      0.93        14\n",
      "           1       0.92      0.92      0.92        13\n",
      "\n",
      "    accuracy                           0.93        27\n",
      "   macro avg       0.93      0.93      0.93        27\n",
      "weighted avg       0.93      0.93      0.93        27\n",
      "\n",
      "Accuracy 7 : 0.9259259259259259\n",
      "Classification Report:\n",
      "              precision    recall  f1-score   support\n",
      "\n",
      "           0       0.91      0.71      0.80        14\n",
      "           1       0.75      0.92      0.83        13\n",
      "\n",
      "    accuracy                           0.81        27\n",
      "   macro avg       0.83      0.82      0.81        27\n",
      "weighted avg       0.83      0.81      0.81        27\n",
      "\n",
      "Accuracy 9 : 0.8148148148148148\n"
     ]
    }
   ],
   "source": [
    "from sklearn.neighbors import KNeighborsClassifier\n",
    "best=[]\n",
    "k=[1, 3, 5, 7, 9]\n",
    "for i in range(len(k)):  \n",
    "    classifier = KNeighborsClassifier(n_neighbors=k[i])\n",
    "    classifier.fit(input_train,target_train)\n",
    "    y_pred = classifier.predict(input_test)\n",
    "    y_pred\n",
    "    result1 = classification_report(target_test,y_pred)\n",
    "    print(\"Classification Report:\",)\n",
    "    print (result1)\n",
    "    result2 = accuracy_score(target_test,y_pred)\n",
    "    print(\"Accuracy\",k[i],\":\",result2)"
   ]
  }
 ],
 "metadata": {
  "kernelspec": {
   "display_name": "Python 3",
   "language": "python",
   "name": "python3"
  },
  "language_info": {
   "codemirror_mode": {
    "name": "ipython",
    "version": 3
   },
   "file_extension": ".py",
   "mimetype": "text/x-python",
   "name": "python",
   "nbconvert_exporter": "python",
   "pygments_lexer": "ipython3",
   "version": "3.8.3"
  }
 },
 "nbformat": 4,
 "nbformat_minor": 4
}
